{
 "cells": [
  {
   "cell_type": "markdown",
   "metadata": {
    "deletable": true,
    "editable": true
   },
   "source": [
    "# Cumulatieve reistijd\n",
    "\n",
    "### Dit python notebook laat een methode zien om op basis van een stroombaanberekening in iMOD de cumulatieve reistijd te bepalen naar pompputten. \n",
    "\n",
    "Nodig zijn;\n",
    "    - een iff-bestand afkomstig uit een stroombaanberekening,\n",
    "    - een ipf-bestand met pompputten bevat. Het ipf bestand moet in ieder geval bevatten;\n",
    "        * x en y coordinaten van het filter\n",
    "        * modellaag waar het filter in zit\n",
    "        * label voor de pompput (meerdere pompputten kunnen hetzelfde label bevatten, de reistijden worden dan geaggregeerd.)"
   ]
  },
  {
   "cell_type": "markdown",
   "metadata": {
    "deletable": true,
    "editable": true
   },
   "source": [
    "### Stap 1\n",
    "importeren modules ipf en iff uit pyimod. En vervolgens in lezen van het ipf- en iff-bestand"
   ]
  },
  {
   "cell_type": "code",
   "execution_count": 1,
   "metadata": {
    "collapsed": true,
    "deletable": true,
    "editable": true
   },
   "outputs": [],
   "source": [
    "from pyimod import ipf, iff\n",
    "\n",
    "putten      = r'C:\\LOZA\\Nijbeets_MIPWA\\Stroombanen\\tools\\wel.ipf'\n",
    "stroombanen = r'C:\\LOZA\\Nijbeets_MIPWA\\Stroombanen\\data\\6_B1_BOEZEM\\imodpath_plas.iff'\n",
    "\n",
    "putten_ipf      = ipf.ipf(putten, ['f', 'f', 'f', 's', 's', 'f', 'f', 'i'])\n",
    "stroombanen_iff = iff.iff(stroombanen)"
   ]
  },
  {
   "cell_type": "markdown",
   "metadata": {
    "deletable": true,
    "editable": true
   },
   "source": [
    "### Stap 2\n",
    "Vervolgens wordt per eindpunt uit het iff-bestand gekeken of dit overeenkomt met een pompput uit het ipf-bestand. Voorwaarde voor overeenkomt is dat de horizontale afstand kleiner is dan 'dmin' en de modellaag van het eindpunt overeenkomt met die van de pompput. Wanneer er een overeenkomst is wordt de reistijd toegevoegd aan een dictonary, waarbij de key gelijk is aan het label van de betreffende pompput.\n",
    "\n",
    "De variabele 'xcol', 'ycol', 'lcol' en 'labcol' geven het kolomnummer in het ipf-bestand van respectievelijk x-coordinaat, y-coordinaat, modellaag en label. "
   ]
  },
  {
   "cell_type": "code",
   "execution_count": 2,
   "metadata": {
    "collapsed": false,
    "deletable": true,
    "editable": true
   },
   "outputs": [],
   "source": [
    "dmin = 25.0\n",
    "xcol, ycol, lcol, labcol = 0, 1, 7, 3\n",
    "reistijden = {}\n",
    "for end in stroombanen_iff.endpoints.itervalues():\n",
    "    for pnt in putten_ipf.features:\n",
    "        d = ((pnt[xcol]-end[0])**2+(pnt[ycol]-end[1])**2)**0.5\n",
    "        if d<dmin and pnt[lcol]==end[4]:\n",
    "            label = pnt[labcol]\n",
    "            if reistijden.has_key(label):\n",
    "                reistijden[label].append(end[3])                \n",
    "            else:\n",
    "                reistijden[label] = [end[3]]"
   ]
  },
  {
   "cell_type": "markdown",
   "metadata": {
    "deletable": true,
    "editable": true
   },
   "source": [
    "### Stap 3\n",
    "In de volgende stap worden de reistijden per pompput geplot in een cumulatieve frequentie verdeling. Hierbij is de x-as (reistijd) in logaritmische schaal."
   ]
  },
  {
   "cell_type": "code",
   "execution_count": 5,
   "metadata": {
    "collapsed": false,
    "deletable": true,
    "editable": true
   },
   "outputs": [
    {
     "data": {
      "image/png": "[encoded data removed]",
      "text/plain": [
       "<matplotlib.figure.Figure at 0x885bdb0>"
      ]
     },
     "metadata": {},
     "output_type": "display_data"
    }
   ],
   "source": [
    "import matplotlib.pyplot as plt\n",
    "import numpy\n",
    "\n",
    "bins = numpy.logspace(-2, 3, 50)\n",
    "for lab, t in reistijden.iteritems():\n",
    "    plt.hist(t, bins=bins, normed=1, histtype='step', cumulative=True, label='putten '+ lab)\n",
    "\n",
    "plt.ylim([0, 1])\n",
    "plt.legend(loc=2, prop={'size':8})\n",
    "plt.tick_params(axis='x', length=6, width=3)\n",
    "plt.gca().set_xscale(\"log\")\n",
    "plt.title(\"Cumulatieve reistijd\", fontsize=20)\n",
    "plt.xlabel('Reistijd [jaren]', fontsize=10)\n",
    "plt.ylabel('Fractie', fontsize=10)\n",
    "plt.show()"
   ]
  },
  {
   "cell_type": "code",
   "execution_count": null,
   "metadata": {
    "collapsed": true,
    "deletable": true,
    "editable": true
   },
   "outputs": [],
   "source": []
  }
 ],
 "metadata": {
  "kernelspec": {
   "display_name": "Python 2",
   "language": "python",
   "name": "python2"
  },
  "language_info": {
   "codemirror_mode": {
    "name": "ipython",
    "version": 2
   },
   "file_extension": ".py",
   "mimetype": "text/x-python",
   "name": "python",
   "nbconvert_exporter": "python",
   "pygments_lexer": "ipython2",
   "version": "2.7.9"
  }
 },
 "nbformat": 4,
 "nbformat_minor": 2
}
